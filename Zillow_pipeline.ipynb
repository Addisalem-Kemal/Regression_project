{
 "cells": [
  {
   "cell_type": "markdown",
   "id": "d7522838-2dfa-4099-be77-914cd33437b0",
   "metadata": {},
   "source": [
    "# Zillow \n",
    "\n",
    "## Goal:\n",
    "\n",
    "    To make a regression model that can best fit the tax amount of properties.\n",
    "    To identify the three counties where these properties are located\n",
    "        \n",
    "## Executive summary: \n",
    "\n",
    "    - Polynomial Regression was the best model with R^2 value of 0.3586\n",
    "    - Too many missing values in the data to be of use. \n",
    "    - The three counties where these properties are located\n",
    "        - 0611 Ventura County\n",
    "        - 0637 Los Angeles County\n",
    "        - 0659 Orange County"
   ]
  },
  {
   "cell_type": "code",
   "execution_count": 1,
   "id": "0d98f74f-cc06-44b5-b7dd-e448c8d9a001",
   "metadata": {},
   "outputs": [],
   "source": [
    "# ignore warnings\n",
    "import warnings\n",
    "warnings.filterwarnings(\"ignore\")\n",
    "\n",
    "# Data getting, cleaning, and exploring\n",
    "\n",
    "from env import user, password, host\n",
    "import features\n",
    "# Python without these is hard\n",
    "import pandas as pd\n",
    "import numpy as np\n",
    "from pydataset import data\n",
    "from scipy import stats\n",
    "\n",
    "# Machine Learning\n",
    "from sklearn.feature_selection import SelectKBest, RFE\n",
    "from sklearn.model_selection import train_test_split\n",
    "from sklearn.tree import export_graphviz\n",
    "from sklearn.metrics import confusion_matrix\n",
    "import sklearn.preprocessing\n",
    "from sklearn.preprocessing import MinMaxScaler \n",
    "from sklearn.impute import SimpleImputer\n",
    "# Regression Modeling\n",
    "from sklearn.metrics import mean_squared_error,r2_score\n",
    "from sklearn.linear_model import LinearRegression, LassoLars, TweedieRegressor\n",
    "from sklearn.preprocessing import PolynomialFeatures\n",
    "\n",
    "# Visualization\n",
    "import matplotlib.pyplot as plt\n",
    "%matplotlib inline\n",
    "import seaborn as sns"
   ]
  },
  {
   "cell_type": "markdown",
   "id": "13552b49-f82e-4412-a808-8b4886d9896b",
   "metadata": {},
   "source": [
    "### Acquire "
   ]
  },
  {
   "cell_type": "code",
   "execution_count": 3,
   "id": "ebcff338",
   "metadata": {},
   "outputs": [],
   "source": [
    "url = f\"mysql+pymysql://{user}:{password}@{host}/zillow\"\n",
    "    \n",
    "query = \"\"\"SELECT \n",
    "                parcelid, \n",
    "                bathroomcnt as bathroom , \n",
    "                bedroomcnt as bedroom,\n",
    "                calculatedfinishedsquarefeet as area, \n",
    "                fips, \n",
    "                taxvaluedollarcnt as tax,\n",
    "                yearbuilt as year \n",
    "                FROM properties_2017\n",
    "                JOIN predictions_2017\n",
    "                USING (parcelid)\n",
    "                JOIN propertylandusetype\n",
    "                USING (propertylandusetypeid)\n",
    "                WHERE propertylandusedesc IN (\"Single Family Residential\",                       \n",
    "                              \"Inferred Single Family Residential\") AND\n",
    "                              (transactiondate BETWEEN \"2017-01-01\" AND \"2017-12-31\")\n",
    "\"\"\""
   ]
  },
  {
   "cell_type": "code",
   "execution_count": 4,
   "id": "7465d545",
   "metadata": {},
   "outputs": [],
   "source": [
    "df = pd.read_sql(query, url)"
   ]
  },
  {
   "cell_type": "code",
   "execution_count": 5,
   "id": "2df95fb1",
   "metadata": {},
   "outputs": [
    {
     "name": "stdout",
     "output_type": "stream",
     "text": [
      "<class 'pandas.core.frame.DataFrame'>\n",
      "RangeIndex: 52441 entries, 0 to 52440\n",
      "Data columns (total 7 columns):\n",
      " #   Column    Non-Null Count  Dtype  \n",
      "---  ------    --------------  -----  \n",
      " 0   parcelid  52441 non-null  int64  \n",
      " 1   bathroom  52441 non-null  float64\n",
      " 2   bedroom   52441 non-null  float64\n",
      " 3   area      52359 non-null  float64\n",
      " 4   fips      52441 non-null  float64\n",
      " 5   tax       52440 non-null  float64\n",
      " 6   year      52325 non-null  float64\n",
      "dtypes: float64(6), int64(1)\n",
      "memory usage: 2.8 MB\n"
     ]
    }
   ],
   "source": [
    "df.info()"
   ]
  },
  {
   "cell_type": "code",
   "execution_count": 6,
   "id": "0478c3a0",
   "metadata": {},
   "outputs": [
    {
     "data": {
      "text/html": [
       "<div>\n",
       "<style scoped>\n",
       "    .dataframe tbody tr th:only-of-type {\n",
       "        vertical-align: middle;\n",
       "    }\n",
       "\n",
       "    .dataframe tbody tr th {\n",
       "        vertical-align: top;\n",
       "    }\n",
       "\n",
       "    .dataframe thead th {\n",
       "        text-align: right;\n",
       "    }\n",
       "</style>\n",
       "<table border=\"1\" class=\"dataframe\">\n",
       "  <thead>\n",
       "    <tr style=\"text-align: right;\">\n",
       "      <th></th>\n",
       "      <th>parcelid</th>\n",
       "      <th>bathroom</th>\n",
       "      <th>bedroom</th>\n",
       "      <th>area</th>\n",
       "      <th>fips</th>\n",
       "      <th>tax</th>\n",
       "      <th>year</th>\n",
       "    </tr>\n",
       "  </thead>\n",
       "  <tbody>\n",
       "    <tr>\n",
       "      <th>count</th>\n",
       "      <td>5.244100e+04</td>\n",
       "      <td>52441.000000</td>\n",
       "      <td>52441.000000</td>\n",
       "      <td>52359.000000</td>\n",
       "      <td>52441.000000</td>\n",
       "      <td>5.244000e+04</td>\n",
       "      <td>52325.000000</td>\n",
       "    </tr>\n",
       "    <tr>\n",
       "      <th>mean</th>\n",
       "      <td>1.299912e+07</td>\n",
       "      <td>2.299403</td>\n",
       "      <td>3.300681</td>\n",
       "      <td>1922.890754</td>\n",
       "      <td>6049.132149</td>\n",
       "      <td>5.296882e+05</td>\n",
       "      <td>1963.393884</td>\n",
       "    </tr>\n",
       "    <tr>\n",
       "      <th>std</th>\n",
       "      <td>3.411444e+06</td>\n",
       "      <td>1.022772</td>\n",
       "      <td>0.949094</td>\n",
       "      <td>1004.365838</td>\n",
       "      <td>21.029067</td>\n",
       "      <td>7.518946e+05</td>\n",
       "      <td>23.133571</td>\n",
       "    </tr>\n",
       "    <tr>\n",
       "      <th>min</th>\n",
       "      <td>1.071186e+07</td>\n",
       "      <td>0.000000</td>\n",
       "      <td>0.000000</td>\n",
       "      <td>128.000000</td>\n",
       "      <td>6037.000000</td>\n",
       "      <td>1.000000e+03</td>\n",
       "      <td>1878.000000</td>\n",
       "    </tr>\n",
       "    <tr>\n",
       "      <th>25%</th>\n",
       "      <td>1.151022e+07</td>\n",
       "      <td>2.000000</td>\n",
       "      <td>3.000000</td>\n",
       "      <td>1268.000000</td>\n",
       "      <td>6037.000000</td>\n",
       "      <td>1.937475e+05</td>\n",
       "      <td>1950.000000</td>\n",
       "    </tr>\n",
       "    <tr>\n",
       "      <th>50%</th>\n",
       "      <td>1.257764e+07</td>\n",
       "      <td>2.000000</td>\n",
       "      <td>3.000000</td>\n",
       "      <td>1659.000000</td>\n",
       "      <td>6037.000000</td>\n",
       "      <td>3.736120e+05</td>\n",
       "      <td>1961.000000</td>\n",
       "    </tr>\n",
       "    <tr>\n",
       "      <th>75%</th>\n",
       "      <td>1.412953e+07</td>\n",
       "      <td>3.000000</td>\n",
       "      <td>4.000000</td>\n",
       "      <td>2306.000000</td>\n",
       "      <td>6059.000000</td>\n",
       "      <td>6.193012e+05</td>\n",
       "      <td>1979.000000</td>\n",
       "    </tr>\n",
       "    <tr>\n",
       "      <th>max</th>\n",
       "      <td>1.676878e+08</td>\n",
       "      <td>18.000000</td>\n",
       "      <td>14.000000</td>\n",
       "      <td>21929.000000</td>\n",
       "      <td>6111.000000</td>\n",
       "      <td>4.906124e+07</td>\n",
       "      <td>2016.000000</td>\n",
       "    </tr>\n",
       "  </tbody>\n",
       "</table>\n",
       "</div>"
      ],
      "text/plain": [
       "           parcelid      bathroom       bedroom          area          fips  \\\n",
       "count  5.244100e+04  52441.000000  52441.000000  52359.000000  52441.000000   \n",
       "mean   1.299912e+07      2.299403      3.300681   1922.890754   6049.132149   \n",
       "std    3.411444e+06      1.022772      0.949094   1004.365838     21.029067   \n",
       "min    1.071186e+07      0.000000      0.000000    128.000000   6037.000000   \n",
       "25%    1.151022e+07      2.000000      3.000000   1268.000000   6037.000000   \n",
       "50%    1.257764e+07      2.000000      3.000000   1659.000000   6037.000000   \n",
       "75%    1.412953e+07      3.000000      4.000000   2306.000000   6059.000000   \n",
       "max    1.676878e+08     18.000000     14.000000  21929.000000   6111.000000   \n",
       "\n",
       "                tax          year  \n",
       "count  5.244000e+04  52325.000000  \n",
       "mean   5.296882e+05   1963.393884  \n",
       "std    7.518946e+05     23.133571  \n",
       "min    1.000000e+03   1878.000000  \n",
       "25%    1.937475e+05   1950.000000  \n",
       "50%    3.736120e+05   1961.000000  \n",
       "75%    6.193012e+05   1979.000000  \n",
       "max    4.906124e+07   2016.000000  "
      ]
     },
     "execution_count": 6,
     "metadata": {},
     "output_type": "execute_result"
    }
   ],
   "source": [
    "df.describe()"
   ]
  },
  {
   "cell_type": "markdown",
   "id": "93eb813f-3349-4688-8fd7-dc139352127e",
   "metadata": {},
   "source": [
    "### Takeways:\n",
    "- Some missing values\n",
    "- Bedroom Outliers(14)\n",
    "- Bathroom Outliers(18)\n",
    "- Area outliers "
   ]
  },
  {
   "cell_type": "markdown",
   "id": "fd186e1e-cc00-4faa-b752-4686061cb824",
   "metadata": {},
   "source": [
    "### EDA"
   ]
  },
  {
   "cell_type": "code",
   "execution_count": 7,
   "id": "37ff950d",
   "metadata": {},
   "outputs": [
    {
     "data": {
      "text/plain": [
       "0.9977"
      ]
     },
     "execution_count": 7,
     "metadata": {},
     "output_type": "execute_result"
    }
   ],
   "source": [
    "# What is the proportion of the missing values?\n",
    "round(df.dropna().shape[0] / df.shape[0], 4)"
   ]
  },
  {
   "cell_type": "code",
   "execution_count": 8,
   "id": "0110d982",
   "metadata": {
    "tags": []
   },
   "outputs": [],
   "source": [
    "# Drop missing values\n",
    "df = df.dropna()"
   ]
  },
  {
   "cell_type": "code",
   "execution_count": 9,
   "id": "24fcd309",
   "metadata": {},
   "outputs": [
    {
     "data": {
      "text/html": [
       "<div>\n",
       "<style scoped>\n",
       "    .dataframe tbody tr th:only-of-type {\n",
       "        vertical-align: middle;\n",
       "    }\n",
       "\n",
       "    .dataframe tbody tr th {\n",
       "        vertical-align: top;\n",
       "    }\n",
       "\n",
       "    .dataframe thead th {\n",
       "        text-align: right;\n",
       "    }\n",
       "</style>\n",
       "<table border=\"1\" class=\"dataframe\">\n",
       "  <thead>\n",
       "    <tr style=\"text-align: right;\">\n",
       "      <th></th>\n",
       "      <th>parcelid</th>\n",
       "      <th>bathroom</th>\n",
       "      <th>bedroom</th>\n",
       "      <th>area</th>\n",
       "      <th>fips</th>\n",
       "      <th>tax</th>\n",
       "      <th>year</th>\n",
       "    </tr>\n",
       "  </thead>\n",
       "  <tbody>\n",
       "    <tr>\n",
       "      <th>0</th>\n",
       "      <td>14297519</td>\n",
       "      <td>3.5</td>\n",
       "      <td>4.0</td>\n",
       "      <td>3100.0</td>\n",
       "      <td>6059.0</td>\n",
       "      <td>1023282.0</td>\n",
       "      <td>1998.0</td>\n",
       "    </tr>\n",
       "    <tr>\n",
       "      <th>1</th>\n",
       "      <td>17052889</td>\n",
       "      <td>1.0</td>\n",
       "      <td>2.0</td>\n",
       "      <td>1465.0</td>\n",
       "      <td>6111.0</td>\n",
       "      <td>464000.0</td>\n",
       "      <td>1967.0</td>\n",
       "    </tr>\n",
       "    <tr>\n",
       "      <th>2</th>\n",
       "      <td>14186244</td>\n",
       "      <td>2.0</td>\n",
       "      <td>3.0</td>\n",
       "      <td>1243.0</td>\n",
       "      <td>6059.0</td>\n",
       "      <td>564778.0</td>\n",
       "      <td>1962.0</td>\n",
       "    </tr>\n",
       "    <tr>\n",
       "      <th>3</th>\n",
       "      <td>12177905</td>\n",
       "      <td>3.0</td>\n",
       "      <td>4.0</td>\n",
       "      <td>2376.0</td>\n",
       "      <td>6037.0</td>\n",
       "      <td>145143.0</td>\n",
       "      <td>1970.0</td>\n",
       "    </tr>\n",
       "    <tr>\n",
       "      <th>4</th>\n",
       "      <td>12095076</td>\n",
       "      <td>3.0</td>\n",
       "      <td>4.0</td>\n",
       "      <td>2962.0</td>\n",
       "      <td>6037.0</td>\n",
       "      <td>773303.0</td>\n",
       "      <td>1950.0</td>\n",
       "    </tr>\n",
       "  </tbody>\n",
       "</table>\n",
       "</div>"
      ],
      "text/plain": [
       "   parcelid  bathroom  bedroom    area    fips        tax    year\n",
       "0  14297519       3.5      4.0  3100.0  6059.0  1023282.0  1998.0\n",
       "1  17052889       1.0      2.0  1465.0  6111.0   464000.0  1967.0\n",
       "2  14186244       2.0      3.0  1243.0  6059.0   564778.0  1962.0\n",
       "3  12177905       3.0      4.0  2376.0  6037.0   145143.0  1970.0\n",
       "4  12095076       3.0      4.0  2962.0  6037.0   773303.0  1950.0"
      ]
     },
     "execution_count": 9,
     "metadata": {},
     "output_type": "execute_result"
    }
   ],
   "source": [
    "df.head()"
   ]
  },
  {
   "cell_type": "code",
   "execution_count": 10,
   "id": "313a2b95",
   "metadata": {},
   "outputs": [
    {
     "data": {
      "text/plain": [
       "0.9956230050268545"
      ]
     },
     "execution_count": 10,
     "metadata": {},
     "output_type": "execute_result"
    }
   ],
   "source": [
    "# How much of the data has less than 7 bathrooms?\n",
    "df[df.bathroom <= 6].shape[0]/df.shape[0]"
   ]
  },
  {
   "cell_type": "code",
   "execution_count": 11,
   "id": "de44dd60",
   "metadata": {},
   "outputs": [
    {
     "data": {
      "text/plain": [
       "0.9972285403008467"
      ]
     },
     "execution_count": 11,
     "metadata": {},
     "output_type": "execute_result"
    }
   ],
   "source": [
    "# How much of the data has less than 7 bedrooms?\n",
    "df[df.bedroom <= 6].shape[0]/df.shape[0]"
   ]
  },
  {
   "cell_type": "code",
   "execution_count": 12,
   "id": "2971d58a",
   "metadata": {},
   "outputs": [
    {
     "data": {
      "text/plain": [
       "0.9517001471740668"
      ]
     },
     "execution_count": 12,
     "metadata": {},
     "output_type": "execute_result"
    }
   ],
   "source": [
    "# How much of the properties are valued more than 1.5 mil?\n",
    "df[df.tax <= 1_500_000].shape[0]/df.shape[0]"
   ]
  },
  {
   "cell_type": "code",
   "execution_count": 13,
   "id": "0bf1d0ed",
   "metadata": {},
   "outputs": [],
   "source": [
    "drop = df[(df['bathroom'] >= 6) & (df['bedroom'] >= 6) & (df['tax'] >= 1_500_000)].index"
   ]
  },
  {
   "cell_type": "code",
   "execution_count": null,
   "id": "3154b251-f602-4243-9e50-ad574d0a8818",
   "metadata": {},
   "outputs": [],
   "source": [
    "df.drop(drop, inplace=True)"
   ]
  },
  {
   "cell_type": "markdown",
   "id": "71625c6c-8ee6-4d00-96c5-38c51e2e7780",
   "metadata": {},
   "source": [
    "### Takeaways:\n",
    "- Dropped properties with more than 6 bathrooms and bedrooms because they are outliers\n",
    "- Dropped properties more than 1.5 million square ft because it is an outlier"
   ]
  },
  {
   "cell_type": "code",
   "execution_count": 15,
   "id": "b09de61e",
   "metadata": {},
   "outputs": [
    {
     "data": {
      "text/html": [
       "<div>\n",
       "<style scoped>\n",
       "    .dataframe tbody tr th:only-of-type {\n",
       "        vertical-align: middle;\n",
       "    }\n",
       "\n",
       "    .dataframe tbody tr th {\n",
       "        vertical-align: top;\n",
       "    }\n",
       "\n",
       "    .dataframe thead th {\n",
       "        text-align: right;\n",
       "    }\n",
       "</style>\n",
       "<table border=\"1\" class=\"dataframe\">\n",
       "  <thead>\n",
       "    <tr style=\"text-align: right;\">\n",
       "      <th></th>\n",
       "      <th>parcelid</th>\n",
       "      <th>bathroom</th>\n",
       "      <th>bedroom</th>\n",
       "      <th>area</th>\n",
       "      <th>fips</th>\n",
       "      <th>tax</th>\n",
       "      <th>year</th>\n",
       "    </tr>\n",
       "  </thead>\n",
       "  <tbody>\n",
       "    <tr>\n",
       "      <th>0</th>\n",
       "      <td>14297519</td>\n",
       "      <td>3.5</td>\n",
       "      <td>4.0</td>\n",
       "      <td>3100.0</td>\n",
       "      <td>6059.0</td>\n",
       "      <td>1023282.0</td>\n",
       "      <td>1998.0</td>\n",
       "    </tr>\n",
       "    <tr>\n",
       "      <th>1</th>\n",
       "      <td>17052889</td>\n",
       "      <td>1.0</td>\n",
       "      <td>2.0</td>\n",
       "      <td>1465.0</td>\n",
       "      <td>6111.0</td>\n",
       "      <td>464000.0</td>\n",
       "      <td>1967.0</td>\n",
       "    </tr>\n",
       "    <tr>\n",
       "      <th>2</th>\n",
       "      <td>14186244</td>\n",
       "      <td>2.0</td>\n",
       "      <td>3.0</td>\n",
       "      <td>1243.0</td>\n",
       "      <td>6059.0</td>\n",
       "      <td>564778.0</td>\n",
       "      <td>1962.0</td>\n",
       "    </tr>\n",
       "    <tr>\n",
       "      <th>3</th>\n",
       "      <td>12177905</td>\n",
       "      <td>3.0</td>\n",
       "      <td>4.0</td>\n",
       "      <td>2376.0</td>\n",
       "      <td>6037.0</td>\n",
       "      <td>145143.0</td>\n",
       "      <td>1970.0</td>\n",
       "    </tr>\n",
       "    <tr>\n",
       "      <th>4</th>\n",
       "      <td>12095076</td>\n",
       "      <td>3.0</td>\n",
       "      <td>4.0</td>\n",
       "      <td>2962.0</td>\n",
       "      <td>6037.0</td>\n",
       "      <td>773303.0</td>\n",
       "      <td>1950.0</td>\n",
       "    </tr>\n",
       "  </tbody>\n",
       "</table>\n",
       "</div>"
      ],
      "text/plain": [
       "   parcelid  bathroom  bedroom    area    fips        tax    year\n",
       "0  14297519       3.5      4.0  3100.0  6059.0  1023282.0  1998.0\n",
       "1  17052889       1.0      2.0  1465.0  6111.0   464000.0  1967.0\n",
       "2  14186244       2.0      3.0  1243.0  6059.0   564778.0  1962.0\n",
       "3  12177905       3.0      4.0  2376.0  6037.0   145143.0  1970.0\n",
       "4  12095076       3.0      4.0  2962.0  6037.0   773303.0  1950.0"
      ]
     },
     "execution_count": 15,
     "metadata": {},
     "output_type": "execute_result"
    }
   ],
   "source": [
    "df.head()"
   ]
  },
  {
   "cell_type": "code",
   "execution_count": 17,
   "id": "ff4a572b-e5bc-4801-b238-493a8bb5c616",
   "metadata": {},
   "outputs": [],
   "source": [
    "# Dropped properties with zero batroom and bedroom\n",
    "df = df.drop(df[(df.bedroom == 0) | (df.bathroom == 0)].index)"
   ]
  },
  {
   "cell_type": "code",
   "execution_count": 18,
   "id": "3c876022-e45d-41ba-9b9d-2c06eb4d9086",
   "metadata": {},
   "outputs": [],
   "source": [
    "# Column Type\n",
    "num_cols = ['area', 'bathroom', 'bedroom' 'year', 'tax']\n",
    "cat_cols = ['fips']"
   ]
  },
  {
   "cell_type": "code",
   "execution_count": 54,
   "id": "d6fe9d34-8b73-4c0f-8f2c-9c222c686278",
   "metadata": {},
   "outputs": [
    {
     "data": {
      "image/png": "[encoded data removed]",
      "text/plain": [
       "<Figure size 360x360 with 1 Axes>"
      ]
     },
     "metadata": {
      "needs_background": "light"
     },
     "output_type": "display_data"
    }
   ],
   "source": [
    "sns.displot(df['bedroom'])\n",
    "plt.show()"
   ]
  },
  {
   "cell_type": "code",
   "execution_count": 50,
   "id": "b8fe5dd7-0e94-4a34-b029-22ab0b64b883",
   "metadata": {},
   "outputs": [
    {
     "data": {
      "image/png": "[encoded data removed]",
      "text/plain": [
       "<Figure size 360x360 with 1 Axes>"
      ]
     },
     "metadata": {
      "needs_background": "light"
     },
     "output_type": "display_data"
    }
   ],
   "source": [
    "sns.displot(df['bedroom'])\n",
    "plt.show()"
   ]
  },
  {
   "cell_type": "code",
   "execution_count": 51,
   "id": "093626ec-0e68-4e86-9ad5-6c4481a7fc26",
   "metadata": {},
   "outputs": [
    {
     "data": {
      "image/png": "[encoded data removed]",
      "text/plain": [
       "<Figure size 360x360 with 1 Axes>"
      ]
     },
     "metadata": {
      "needs_background": "light"
     },
     "output_type": "display_data"
    }
   ],
   "source": [
    "sns.displot(df['area'])\n",
    "plt.show()"
   ]
  },
  {
   "cell_type": "code",
   "execution_count": 52,
   "id": "6ac8d182-01b5-42ec-9b29-978a79a63e15",
   "metadata": {},
   "outputs": [
    {
     "data": {
      "image/png": "[encoded data removed]",
      "text/plain": [
       "<Figure size 360x360 with 1 Axes>"
      ]
     },
     "metadata": {
      "needs_background": "light"
     },
     "output_type": "display_data"
    }
   ],
   "source": [
    "sns.displot(df['year'])\n",
    "plt.show()"
   ]
  },
  {
   "cell_type": "code",
   "execution_count": 53,
   "id": "44f9fecc-ebf5-4fca-9406-6708f45c723a",
   "metadata": {},
   "outputs": [
    {
     "data": {
      "image/png": "[encoded data removed]",
      "text/plain": [
       "<Figure size 360x360 with 1 Axes>"
      ]
     },
     "metadata": {
      "needs_background": "light"
     },
     "output_type": "display_data"
    }
   ],
   "source": [
    "sns.displot(df['tax'])\n",
    "plt.show()"
   ]
  },
  {
   "cell_type": "code",
   "execution_count": 55,
   "id": "b8aa670f-1d1f-412a-858f-a082bab3ef60",
   "metadata": {},
   "outputs": [
    {
     "data": {
      "image/png": "[encoded data removed]",
      "text/plain": [
       "<Figure size 360x360 with 1 Axes>"
      ]
     },
     "metadata": {
      "needs_background": "light"
     },
     "output_type": "display_data"
    }
   ],
   "source": [
    "sns.displot(df['fips'])\n",
    "plt.show()"
   ]
  },
  {
   "cell_type": "markdown",
   "id": "d665dd80-1d14-4f4a-bad6-58ff297fb965",
   "metadata": {},
   "source": [
    "### Takeaways:\n",
    "- Similar plots of area and tax\n",
    "- Normal distribution for bedroom and bathroom\n",
    "- Three fips "
   ]
  },
  {
   "cell_type": "code",
   "execution_count": 25,
   "id": "b82ccf12-d2af-4b2f-9b65-3ae1267f4ab7",
   "metadata": {},
   "outputs": [],
   "source": [
    "# separate df by counties\n",
    "df_6037 = df [df.fips == 6037.0]\n",
    "df_6059 = df [df.fips == 6059.0]\n",
    "df_6111 = df [df.fips == 6111.0]"
   ]
  },
  {
   "cell_type": "code",
   "execution_count": 26,
   "id": "7aed0bea-be6c-4f46-8be6-d52b4aa39f5a",
   "metadata": {},
   "outputs": [
    {
     "data": {
      "image/png": "[encoded data removed]",
      "text/plain": [
       "<Figure size 432x288 with 1 Axes>"
      ]
     },
     "metadata": {
      "needs_background": "light"
     },
     "output_type": "display_data"
    }
   ],
   "source": [
    "#plot tax distributions by county\n",
    "plt.title(\"Home Tax Values by County in California\", fontsize=16)\n",
    "\n",
    "sns.distplot(df_6111.tax, label=\"Ventura\")\n",
    "sns.distplot(df_6037.tax, label=\"Los Angeles\")\n",
    "sns.distplot(df_6059.tax, label=\"Orange\")\n",
    "\n",
    "plt.yticks([])\n",
    "plt.figlegend(loc = (.65, .65))\n",
    "plt.xlim(0, 2_000_000)\n",
    "plt.xlabel('tax values')\n",
    "plt.xticks(rotation=-45)\n",
    "plt.show()"
   ]
  },
  {
   "cell_type": "code",
   "execution_count": 27,
   "id": "26d730c3-eeab-4fb9-81c8-dbd3ac3230d6",
   "metadata": {},
   "outputs": [],
   "source": [
    "# Our target variable\n",
    "target = 'tax'"
   ]
  },
  {
   "cell_type": "code",
   "execution_count": 28,
   "id": "056c6cc3-6087-4e24-b0c6-bb0677320819",
   "metadata": {},
   "outputs": [],
   "source": [
    "def train_validate_test_split(df, target, seed=42):\n",
    "    '''\n",
    "    This function takes in a dataframe, the name of the target variable\n",
    "    (for stratification purposes), and an integer for a setting a seed\n",
    "    and splits the data into train, validate and test. \n",
    "    Test is 20% of the original dataset, validate is .30*.80= 24% of the \n",
    "    original dataset, and train is .70*.80= 56% of the original dataset. \n",
    "    The function returns, in this order, train, validate and test dataframes. \n",
    "    '''\n",
    "    train_validate, test = train_test_split(df, test_size=0.2, \n",
    "                                            random_state=seed)\n",
    "    train, validate = train_test_split(train_validate, test_size=0.3, \n",
    "                                       random_state=seed)\n",
    "    return train, validate, test\n"
   ]
  },
  {
   "cell_type": "code",
   "execution_count": 29,
   "id": "6eef4d0a-de7e-45fa-aba3-9f1acf941a05",
   "metadata": {},
   "outputs": [],
   "source": [
    "train, validate, test = train_validate_test_split(df,target)"
   ]
  },
  {
   "cell_type": "code",
   "execution_count": 30,
   "id": "d2d75db6-e710-44ea-8b77-c2cc11e2f5e2",
   "metadata": {},
   "outputs": [],
   "source": [
    "# Orginize the data for machine learning\n",
    "X_train = train.drop(columns=['tax'])\n",
    "y_train = train.tax\n",
    "\n",
    "X_validate = validate.drop(columns=['tax'])\n",
    "y_validate = validate.tax\n",
    "\n",
    "X_test = test.drop(columns=['tax'])\n",
    "y_test = test.tax"
   ]
  },
  {
   "cell_type": "code",
   "execution_count": 31,
   "id": "f7def6cd-2953-4df5-856b-200efec0468b",
   "metadata": {},
   "outputs": [
    {
     "data": {
      "text/plain": [
       "((29171, 7), (12503, 7), (10419, 7))"
      ]
     },
     "execution_count": 31,
     "metadata": {},
     "output_type": "execute_result"
    }
   ],
   "source": [
    "train.shape, validate.shape, test.shape"
   ]
  },
  {
   "cell_type": "code",
   "execution_count": 32,
   "id": "8c97b633-2e1a-4347-9d87-e7b72018cceb",
   "metadata": {},
   "outputs": [
    {
     "data": {
      "image/png": "[encoded data removed]",
      "text/plain": [
       "<Figure size 432x288 with 2 Axes>"
      ]
     },
     "metadata": {
      "needs_background": "light"
     },
     "output_type": "display_data"
    }
   ],
   "source": [
    "sns.heatmap(train.corr(), cmap='Blues', annot=True)\n",
    "plt.show()"
   ]
  },
  {
   "cell_type": "markdown",
   "id": "0823c832-8608-48ea-abc1-5cd6f2eb0151",
   "metadata": {},
   "source": [
    "### Takeaways:\n",
    "- bedroom and bathroom have the most correlation\n",
    "- area also plays a big role in tax\n",
    "- bathroom has the biggest correlation"
   ]
  },
  {
   "cell_type": "markdown",
   "id": "df7f7237-34b2-453b-9635-9115a946ba1b",
   "metadata": {},
   "source": [
    "### Hypothesis Testing:\n",
    "H0 = there is no difference between county6037(Los Angeles) and county6059(Orange)\n",
    "Ha = there is a difference between county6037(Los Angeles) and county6059(Orange)\n",
    "\n",
    "H0 = there is no difference between county6111(Ventura) and county6059(Orange)\n",
    "Ha = there is a difference between county6111(Ventura) and county6059(Orange)\n",
    "\n",
    "H0 = there is no difference between county6037(Los Angeles) and county6111(Ventura)\n",
    "Ha = there is a difference between county6037(Los Angeles) and county6111(Ventura)\n",
    "\n"
   ]
  },
  {
   "cell_type": "code",
   "execution_count": 33,
   "id": "df80f6fa-bb9a-47f7-b483-31b17ed1ed68",
   "metadata": {},
   "outputs": [
    {
     "name": "stdout",
     "output_type": "stream",
     "text": [
      "t-score: -17.46, p-value: 0.000\n",
      "t-score: 8.82, p-value: 0.000\n",
      "t-score: -2.74, p-value: 0.006\n"
     ]
    }
   ],
   "source": [
    "# Run a t-test to compare counties to each other\n",
    "t1, p1 = stats.ttest_ind(df_6037.tax, df_6059.tax)\n",
    "t2, p2 = stats.ttest_ind(df_6059.tax, df_6111.tax)\n",
    "t3, p3 = stats.ttest_ind(df_6037.tax, df_6111.tax)\n",
    "print(f't-score: {t1:.2f}, p-value: {p1:.3f}')\n",
    "print(f't-score: {t2:.2f}, p-value: {p2:.3f}')\n",
    "print(f't-score: {t3:.2f}, p-value: {p3:.3f}')"
   ]
  },
  {
   "cell_type": "markdown",
   "id": "ad6e8b95-745a-41fe-ad15-a0fc4be6b726",
   "metadata": {},
   "source": [
    "### Takeaways:\n",
    "The p-value is zero, therefore, the null hypothesis is rejected\n",
    "The p-value is zero, therefore, the null hypothesis is rejected\n",
    "The p-value is zero, therefore, the null hypothesis is rejected"
   ]
  },
  {
   "cell_type": "markdown",
   "id": "a1e064f3-dab2-46e4-a20c-9ed5d4ffca84",
   "metadata": {},
   "source": [
    "### Correlation Test:\n",
    "H0 = there is no correlation between bathroom and area\n",
    "Ha = there is a correlation between batroom and area\n"
   ]
  },
  {
   "cell_type": "code",
   "execution_count": 34,
   "id": "6e8e7d95-3b93-4ab8-9d8d-8f5f2bd35b70",
   "metadata": {},
   "outputs": [
    {
     "data": {
      "text/plain": [
       "(0.8458623331180443, 0.0)"
      ]
     },
     "execution_count": 34,
     "metadata": {},
     "output_type": "execute_result"
    }
   ],
   "source": [
    "# Run a correlation test between bathrooms and area\n",
    "stats.pearsonr(df.bathroom, df.area)"
   ]
  },
  {
   "cell_type": "markdown",
   "id": "4ce28bc1-d93e-4e19-a4a7-905e3d9f2b56",
   "metadata": {},
   "source": [
    "### Scaling"
   ]
  },
  {
   "cell_type": "code",
   "execution_count": 35,
   "id": "1e98bf6a-353e-42ca-b00f-449a89efb400",
   "metadata": {},
   "outputs": [],
   "source": [
    "# MinMax scaler was used\n",
    "scaler = sklearn.preprocessing.MinMaxScaler()\n",
    "scaler.fit(X_train)\n",
    "x_train_scaled = scaler.transform(X_train)\n",
    "x_validate_scaled = scaler.transform(X_validate)\n",
    "x_test_scaled = scaler.transform(X_test)"
   ]
  },
  {
   "cell_type": "markdown",
   "id": "0a0855cf-4cbc-4613-85ac-18196a987982",
   "metadata": {},
   "source": [
    "### Baseline"
   ]
  },
  {
   "cell_type": "code",
   "execution_count": 59,
   "id": "bcb632b8-8e12-4124-9bb1-0812f7d81eab",
   "metadata": {},
   "outputs": [
    {
     "data": {
      "text/plain": [
       "511389.85159919097"
      ]
     },
     "execution_count": 59,
     "metadata": {},
     "output_type": "execute_result"
    }
   ],
   "source": [
    "y_train = pd.DataFrame(y_train)\n",
    "y_validate = pd.DataFrame(y_validate)\n",
    "value_pred_mean = y_train['tax'].mean()\n",
    "y_train['value_pred_mean'] = value_pred_mean\n",
    "y_validate['value_pred_mean'] = value_pred_mean\n",
    "\n",
    "value_pred_median = y_train['tax'].median()\n",
    "y_train['value_pred_median'] = value_pred_median\n",
    "y_validate['value_pred_median'] = value_pred_median\n",
    "\n",
    "value_pred_mean\n"
   ]
  },
  {
   "cell_type": "markdown",
   "id": "83a30852-a4b4-4a17-8542-9fb5d0181097",
   "metadata": {},
   "source": [
    "## Modeling\n",
    "### Linear Regression Model"
   ]
  },
  {
   "cell_type": "code",
   "execution_count": 37,
   "id": "fd48047e-4c14-4ece-909f-b14b056ff358",
   "metadata": {},
   "outputs": [
    {
     "name": "stdout",
     "output_type": "stream",
     "text": [
      "RMSE for OLS using LinearRegression\n",
      "Training/In-Sample:  476451.104 \n",
      "Validation/Out-of-Sample:  567336.434\n"
     ]
    }
   ],
   "source": [
    "lm = LinearRegression(normalize=True)\n",
    "\n",
    "\n",
    "lm.fit(x_train_scaled, y_train.tax)\n",
    "\n",
    "# predict train\n",
    "y_train['value_pred_lm'] = lm.predict(x_train_scaled)\n",
    "\n",
    "# evaluate: rmse\n",
    "rmse_train = mean_squared_error(y_train.tax, y_train.value_pred_lm) ** (1/2)\n",
    "\n",
    "# predict validate\n",
    "y_validate['value_pred_lm'] = lm.predict(x_validate_scaled)\n",
    "\n",
    "# evaluate: rmse\n",
    "rmse_validate = mean_squared_error(y_validate.tax, y_validate.value_pred_lm) ** (1/2)\n",
    "\n",
    "print(\"RMSE for OLS using LinearRegression\\nTraining/In-Sample: \", round(rmse_train, 4), \n",
    "      \"\\nValidation/Out-of-Sample: \", round(rmse_validate, 4))"
   ]
  },
  {
   "cell_type": "code",
   "execution_count": 38,
   "id": "5990b883-6c17-4a5f-9df5-556cb966f64c",
   "metadata": {},
   "outputs": [
    {
     "data": {
      "text/plain": [
       "0.3258"
      ]
     },
     "execution_count": 38,
     "metadata": {},
     "output_type": "execute_result"
    }
   ],
   "source": [
    "r2_score_ols = r2_score(y_validate.tax, y_validate.value_pred_lm)\n",
    "round(r2_score_ols, 4)"
   ]
  },
  {
   "cell_type": "markdown",
   "id": "7c867d90-2d33-4bdb-8f30-3161e2595f77",
   "metadata": {},
   "source": [
    "### TweedieRegressor "
   ]
  },
  {
   "cell_type": "code",
   "execution_count": 39,
   "id": "087a1490-0b93-4052-b5d3-ad315495f912",
   "metadata": {},
   "outputs": [
    {
     "name": "stdout",
     "output_type": "stream",
     "text": [
      "RMSE for GLM using Tweedie, power=1 & alpha=0\n",
      "Training/In-Sample:  476451.104 \n",
      "Validation/Out-of-Sample:  567336.4307\n"
     ]
    }
   ],
   "source": [
    "# create the model object\n",
    "glm = TweedieRegressor(power=0, alpha=0)\n",
    "\n",
    "# fit the model to our training data. We must specify the column in y_train, \n",
    "# since we have converted it to a dataframe from a series! \n",
    "glm.fit(x_train_scaled, y_train.tax)\n",
    "\n",
    "# predict train\n",
    "y_train['value_pred_glm'] = glm.predict(x_train_scaled)\n",
    "\n",
    "# evaluate: rmse\n",
    "rmse_train = mean_squared_error(y_train.tax, y_train.value_pred_glm) ** (1/2)\n",
    "\n",
    "# predict validate\n",
    "y_validate['value_pred_glm'] = glm.predict(x_validate_scaled)\n",
    "\n",
    "# evaluate: rmse\n",
    "rmse_validate = mean_squared_error(y_validate.tax, y_validate.value_pred_glm) ** (1/2)\n",
    "\n",
    "print(\"RMSE for GLM using Tweedie, power=1 & alpha=0\\nTraining/In-Sample: \", round(rmse_train,4), \n",
    "      \"\\nValidation/Out-of-Sample: \", round(rmse_validate, 4))"
   ]
  },
  {
   "cell_type": "code",
   "execution_count": 40,
   "id": "6f33a44a-2f41-43c8-b733-3a9f847d8f1c",
   "metadata": {},
   "outputs": [
    {
     "data": {
      "text/plain": [
       "0.3258"
      ]
     },
     "execution_count": 40,
     "metadata": {},
     "output_type": "execute_result"
    }
   ],
   "source": [
    "r2_score_glm = r2_score(y_validate.tax, y_validate.value_pred_glm)\n",
    "round(r2_score_glm, 4)"
   ]
  },
  {
   "cell_type": "markdown",
   "id": "29ddc9cb-ae88-4694-8fa0-2f408acf75da",
   "metadata": {},
   "source": [
    "### Lasso Lars"
   ]
  },
  {
   "cell_type": "code",
   "execution_count": 41,
   "id": "ca2233e7-388d-4a51-a730-79ebba1fce14",
   "metadata": {},
   "outputs": [
    {
     "name": "stdout",
     "output_type": "stream",
     "text": [
      "RMSE for Lasso + Lars\n",
      "Training/In-Sample:  476451.465 \n",
      "Validation/Out-of-Sample:  567354.0886\n"
     ]
    }
   ],
   "source": [
    "# create the model object\n",
    "lars = LassoLars(alpha=1.0)\n",
    "\n",
    "# fit the model to our training data. We must specify the column in y_train, \n",
    "# since we have converted it to a dataframe from a series! \n",
    "lars.fit(x_train_scaled, y_train.tax)\n",
    "\n",
    "# predict train\n",
    "y_train['value_pred_lars'] = lars.predict(x_train_scaled)\n",
    "\n",
    "# evaluate: rmse\n",
    "rmse_train = mean_squared_error(y_train.tax, y_train.value_pred_lars) ** (1/2)\n",
    "\n",
    "# predict validate\n",
    "y_validate['value_pred_lars'] = lars.predict(x_validate_scaled)\n",
    "\n",
    "# evaluate: rmse\n",
    "rmse_validate = mean_squared_error(y_validate.tax, y_validate.value_pred_lars) ** (1/2)\n",
    "\n",
    "print(\"RMSE for Lasso + Lars\\nTraining/In-Sample: \", round(rmse_train, 4), \n",
    "      \"\\nValidation/Out-of-Sample: \", round(rmse_validate,4))"
   ]
  },
  {
   "cell_type": "code",
   "execution_count": 42,
   "id": "71325660-7cd6-41d2-8f61-3a47f04dacae",
   "metadata": {},
   "outputs": [
    {
     "data": {
      "text/plain": [
       "0.3257"
      ]
     },
     "execution_count": 42,
     "metadata": {},
     "output_type": "execute_result"
    }
   ],
   "source": [
    "r2_score_lars = r2_score(y_validate.tax, y_validate.value_pred_lars)\n",
    "round(r2_score_lars,4)"
   ]
  },
  {
   "cell_type": "markdown",
   "id": "415d81a2-e116-4ead-a495-59a5c9a77523",
   "metadata": {},
   "source": [
    "### Polynomial Regression with power 2"
   ]
  },
  {
   "cell_type": "code",
   "execution_count": 43,
   "id": "94d3ae7f-b8db-4f97-ad56-6a55862e52a8",
   "metadata": {},
   "outputs": [],
   "source": [
    "pf = PolynomialFeatures(degree=2)\n",
    "\n",
    "# fit and transform X_train_scaled\n",
    "X_train_degree2 = pf.fit_transform(x_train_scaled)\n",
    "\n",
    "# transform X_validate_scaled & X_test_scaled\n",
    "X_validate_degree2 = pf.transform(x_validate_scaled)\n",
    "X_test_degree2 = pf.transform(x_test_scaled)"
   ]
  },
  {
   "cell_type": "code",
   "execution_count": 44,
   "id": "d7adf603-d47c-4159-aad9-929ebd258b5c",
   "metadata": {},
   "outputs": [
    {
     "name": "stdout",
     "output_type": "stream",
     "text": [
      "RMSE for Polynomial Model, degrees=2\n",
      "Training/In-Sample:  463377.7077 \n",
      "Validation/Out-of-Sample:  553373.8786\n"
     ]
    }
   ],
   "source": [
    "# create the model object\n",
    "lm2 = LinearRegression(normalize=True)\n",
    "\n",
    "# fit the model to our training data. We must specify the column in y_train, \n",
    "# since we have converted it to a dataframe from a series! c\n",
    "lm2.fit(X_train_degree2, y_train.tax)\n",
    "\n",
    "# predict train\n",
    "y_train['value_pred_lm2'] = lm2.predict(X_train_degree2)\n",
    "\n",
    "# evaluate: rmse\n",
    "rmse_train = mean_squared_error(y_train.tax, y_train.value_pred_lm2) ** (1/2)\n",
    "\n",
    "# predict validate\n",
    "y_validate['value_pred_lm2'] = lm2.predict(X_validate_degree2)\n",
    "\n",
    "# evaluate: rmse\n",
    "rmse_validate = mean_squared_error(y_validate.tax, y_validate.value_pred_lm2) ** (1/2)\n",
    "\n",
    "print(\"RMSE for Polynomial Model, degrees=2\\nTraining/In-Sample: \", round(rmse_train,4), \n",
    "      \"\\nValidation/Out-of-Sample: \", round(rmse_validate,4))\n"
   ]
  },
  {
   "cell_type": "code",
   "execution_count": 45,
   "id": "ba791b88-d4f6-4c27-bbcd-13466296070c",
   "metadata": {},
   "outputs": [
    {
     "data": {
      "text/plain": [
       "0.3586"
      ]
     },
     "execution_count": 45,
     "metadata": {},
     "output_type": "execute_result"
    }
   ],
   "source": [
    "r2_score_lm2 = r2_score(y_validate.tax, y_validate.value_pred_lm2)\n",
    "round(r2_score_lm2, 4)"
   ]
  },
  {
   "cell_type": "code",
   "execution_count": 46,
   "id": "b1c43748-ec12-4533-986a-0fb8a6009556",
   "metadata": {},
   "outputs": [
    {
     "name": "stdout",
     "output_type": "stream",
     "text": [
      "RMSE for LassoLars Model\n",
      "Out-of-Sample Performance:  486824.6684\n"
     ]
    }
   ],
   "source": [
    "y_test = pd.DataFrame(y_test)\n",
    "\n",
    "# predict on test\n",
    "y_test['value_pred_lm2'] = lm2.predict(X_test_degree2)\n",
    "\n",
    "# evaluate: rmse\n",
    "rmse_test = mean_squared_error(y_test.tax, y_test.value_pred_lm2) ** (1/2)\n",
    "\n",
    "print(\"RMSE for LassoLars Model\\nOut-of-Sample Performance: \", round(rmse_test, 4))"
   ]
  },
  {
   "cell_type": "code",
   "execution_count": 49,
   "id": "ea75f9a6-8dd5-488e-b852-d00b2154ac62",
   "metadata": {},
   "outputs": [
    {
     "name": "stdout",
     "output_type": "stream",
     "text": [
      "Baseline Performance:\n",
      "RSME mean: 513918.593\n",
      "RSME median: 372558.0\n",
      "\n",
      "RMSE for Polynomial Regression Train and Validate Performance:\n",
      "Training/In-Sample:  463377.708 \n",
      "Validation/Out-of-Sample:  553373.879 \n",
      "\n",
      "RMSE for Polynomial Regression Model Test Performance:\n",
      "Out-of-Sample Performance:  486824.6684132732\n",
      "The Linear Regession model has an R_squared of 0.3586\n"
     ]
    }
   ],
   "source": [
    "print(f'Baseline Performance:\\nRSME mean: {round(df.tax.mean(), 3)}\\nRSME median: {round(df.tax.median(),3)}\\n')\n",
    "\n",
    "\n",
    "print(\"RMSE for Polynomial Regression Train and Validate Performance:\\nTraining/In-Sample: \", round(rmse_train,3), \n",
    "      \"\\nValidation/Out-of-Sample: \", round(rmse_validate,3), '\\n')\n",
    "\n",
    "print(\"RMSE for Polynomial Regression Model Test Performance:\\nOut-of-Sample Performance: \", rmse_test)\n",
    "print(f'The Linear Regession model has an R_squared of {round(r2_score_lm2, 4)}')"
   ]
  },
  {
   "cell_type": "code",
   "execution_count": 48,
   "id": "05524c45-1d14-4eba-9a56-3038d1c59737",
   "metadata": {},
   "outputs": [
    {
     "data": {
      "image/png": "[encoded data removed]",
      "text/plain": [
       "<Figure size 2160x1440 with 1 Axes>"
      ]
     },
     "metadata": {
      "needs_background": "light"
     },
     "output_type": "display_data"
    }
   ],
   "source": [
    "# Plot of the regression model with actual property tax values.\n",
    "plt.figure(figsize=(30,20))\n",
    "\n",
    "sns.regplot(data=y_test, x=y_validate.tax, y=y_validate.value_pred_lm2, \n",
    "            scatter_kws={'color':'grey'}, line_kws={'color':'red'})\n",
    "\n",
    "plt.title('Polynomial Model Tax Predictions vs. Actual Tax Values', fontdict={'fontsize':25})\n",
    "plt.xlabel(\"Tax Value\", fontdict={'fontsize':18})\n",
    "plt.ylabel(\"Predicted Tax Value\", fontdict={'fontsize':18})\n",
    "plt.savefig('poly_actual_pred')"
   ]
  },
  {
   "cell_type": "markdown",
   "id": "80134f0f-cd73-458e-b4e6-bd12abd16ecb",
   "metadata": {},
   "source": [
    "### Recommendations:\n",
    "- The data had too many empty values that were not useful in the modeling. A more complete data could give a better model\n",
    "- Demographic and socio-economic data can be drivers since people care about the types of neighbors they have.\n",
    "- Crime data, school district data performance data may also be drivers.\n",
    "- If I had more time I would split them by counties and see if that imporoves the model"
   ]
  }
 ],
 "metadata": {
  "kernelspec": {
   "display_name": "Python 3 (ipykernel)",
   "language": "python",
   "name": "python3"
  },
  "language_info": {
   "codemirror_mode": {
    "name": "ipython",
    "version": 3
   },
   "file_extension": ".py",
   "mimetype": "text/x-python",
   "name": "python",
   "nbconvert_exporter": "python",
   "pygments_lexer": "ipython3",
   "version": "3.9.12"
  }
 },
 "nbformat": 4,
 "nbformat_minor": 5
}
